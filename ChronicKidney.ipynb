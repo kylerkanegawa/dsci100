{
 "cells": [
  {
   "cell_type": "code",
   "execution_count": 1,
   "metadata": {},
   "outputs": [
    {
     "name": "stderr",
     "output_type": "stream",
     "text": [
      "Loading tidyverse: ggplot2\n",
      "Loading tidyverse: tibble\n",
      "Loading tidyverse: tidyr\n",
      "Loading tidyverse: readr\n",
      "Loading tidyverse: purrr\n",
      "Loading tidyverse: dplyr\n",
      "Conflicts with tidy packages ---------------------------------------------------\n",
      "filter(): dplyr, stats\n",
      "lag():    dplyr, stats\n",
      "Loading required package: lattice\n",
      "\n",
      "Attaching package: ‘caret’\n",
      "\n",
      "The following object is masked from ‘package:purrr’:\n",
      "\n",
      "    lift\n",
      "\n"
     ]
    }
   ],
   "source": [
    "library(tidyverse)\n",
    "library(repr)\n",
    "library(caret)"
   ]
  },
  {
   "cell_type": "markdown",
   "metadata": {},
   "source": [
    "After installing tidyverse, repr, and caret, we needed to first load our datasets in via the git clone command in our terminal of juptyer:\n",
    "\n",
    "git clone https://github.com/UBC-DSCI/datasets.git"
   ]
  },
  {
   "cell_type": "code",
   "execution_count": 2,
   "metadata": {},
   "outputs": [
    {
     "name": "stderr",
     "output_type": "stream",
     "text": [
      "Updating HTML index of packages in '.Library'\n",
      "Making 'packages.html' ... done\n"
     ]
    }
   ],
   "source": [
    "install.packages('e1071')\n",
    "library(e1071)"
   ]
  },
  {
   "cell_type": "code",
   "execution_count": 3,
   "metadata": {},
   "outputs": [
    {
     "name": "stderr",
     "output_type": "stream",
     "text": [
      "Parsed with column specification:\n",
      "cols(\n",
      "  .default = col_character(),\n",
      "  age = col_integer(),\n",
      "  bp = col_integer(),\n",
      "  sg = col_double(),\n",
      "  al = col_integer(),\n",
      "  su = col_integer(),\n",
      "  bgr = col_integer(),\n",
      "  bu = col_double(),\n",
      "  sc = col_double(),\n",
      "  sod = col_double(),\n",
      "  pot = col_double(),\n",
      "  hemo = col_double(),\n",
      "  pcv = col_integer(),\n",
      "  wbcc = col_double(),\n",
      "  rbcc = col_double()\n",
      ")\n",
      "See spec(...) for full column specifications.\n"
     ]
    },
    {
     "data": {
      "text/html": [
       "<table>\n",
       "<thead><tr><th scope=col>age</th><th scope=col>bp</th><th scope=col>bgr</th><th scope=col>bu</th><th scope=col>sc</th><th scope=col>sod</th><th scope=col>pot</th><th scope=col>hemo</th><th scope=col>pcv</th><th scope=col>wbcc</th><th scope=col>rbcc</th><th scope=col>class</th></tr></thead>\n",
       "<tbody>\n",
       "\t<tr><td>48       </td><td>1.0278113</td><td>0.7191124</td><td>0.4692584</td><td>0.1835944</td><td>       NA</td><td>       NA</td><td>1.1952734</td><td>1.1008365</td><td>0.8735420</td><td>1.0759119</td><td>ckd      </td></tr>\n",
       "\t<tr><td> 7       </td><td>0.6423821</td><td>       NA</td><td>0.2346292</td><td>0.1223963</td><td>       NA</td><td>       NA</td><td>0.8770512</td><td>0.9507225</td><td>0.6719554</td><td>       NA</td><td>ckd      </td></tr>\n",
       "\t<tr><td>62       </td><td>1.0278113</td><td>2.5139220</td><td>0.6908526</td><td>0.2753916</td><td>       NA</td><td>       NA</td><td>0.7451055</td><td>0.7755894</td><td>0.8399443</td><td>       NA</td><td>ckd      </td></tr>\n",
       "\t<tr><td>48       </td><td>0.8993349</td><td>0.6953401</td><td>0.7299575</td><td>0.5813823</td><td>0.8035411</td><td>0.4432017</td><td>0.8692897</td><td>0.8006084</td><td>0.7503502</td><td>0.8069339</td><td>ckd      </td></tr>\n",
       "\t<tr><td>51       </td><td>1.0278113</td><td>0.6299663</td><td>0.3389088</td><td>0.2141935</td><td>       NA</td><td>       NA</td><td>0.9003358</td><td>0.8756654</td><td>0.8175458</td><td>0.9517682</td><td>ckd      </td></tr>\n",
       "\t<tr><td>60       </td><td>1.1562878</td><td>0.4397878</td><td>0.3258739</td><td>0.1682949</td><td>1.0279535</td><td>0.5672982</td><td>0.9469049</td><td>0.9757415</td><td>0.8735420</td><td>0.9103870</td><td>ckd      </td></tr>\n",
       "</tbody>\n",
       "</table>\n"
      ],
      "text/latex": [
       "\\begin{tabular}{r|llllllllllll}\n",
       " age & bp & bgr & bu & sc & sod & pot & hemo & pcv & wbcc & rbcc & class\\\\\n",
       "\\hline\n",
       "\t 48        & 1.0278113 & 0.7191124 & 0.4692584 & 0.1835944 &        NA &        NA & 1.1952734 & 1.1008365 & 0.8735420 & 1.0759119 & ckd      \\\\\n",
       "\t  7        & 0.6423821 &        NA & 0.2346292 & 0.1223963 &        NA &        NA & 0.8770512 & 0.9507225 & 0.6719554 &        NA & ckd      \\\\\n",
       "\t 62        & 1.0278113 & 2.5139220 & 0.6908526 & 0.2753916 &        NA &        NA & 0.7451055 & 0.7755894 & 0.8399443 &        NA & ckd      \\\\\n",
       "\t 48        & 0.8993349 & 0.6953401 & 0.7299575 & 0.5813823 & 0.8035411 & 0.4432017 & 0.8692897 & 0.8006084 & 0.7503502 & 0.8069339 & ckd      \\\\\n",
       "\t 51        & 1.0278113 & 0.6299663 & 0.3389088 & 0.2141935 &        NA &        NA & 0.9003358 & 0.8756654 & 0.8175458 & 0.9517682 & ckd      \\\\\n",
       "\t 60        & 1.1562878 & 0.4397878 & 0.3258739 & 0.1682949 & 1.0279535 & 0.5672982 & 0.9469049 & 0.9757415 & 0.8735420 & 0.9103870 & ckd      \\\\\n",
       "\\end{tabular}\n"
      ],
      "text/markdown": [
       "\n",
       "age | bp | bgr | bu | sc | sod | pot | hemo | pcv | wbcc | rbcc | class | \n",
       "|---|---|---|---|---|---|\n",
       "| 48        | 1.0278113 | 0.7191124 | 0.4692584 | 0.1835944 |        NA |        NA | 1.1952734 | 1.1008365 | 0.8735420 | 1.0759119 | ckd       | \n",
       "|  7        | 0.6423821 |        NA | 0.2346292 | 0.1223963 |        NA |        NA | 0.8770512 | 0.9507225 | 0.6719554 |        NA | ckd       | \n",
       "| 62        | 1.0278113 | 2.5139220 | 0.6908526 | 0.2753916 |        NA |        NA | 0.7451055 | 0.7755894 | 0.8399443 |        NA | ckd       | \n",
       "| 48        | 0.8993349 | 0.6953401 | 0.7299575 | 0.5813823 | 0.8035411 | 0.4432017 | 0.8692897 | 0.8006084 | 0.7503502 | 0.8069339 | ckd       | \n",
       "| 51        | 1.0278113 | 0.6299663 | 0.3389088 | 0.2141935 |        NA |        NA | 0.9003358 | 0.8756654 | 0.8175458 | 0.9517682 | ckd       | \n",
       "| 60        | 1.1562878 | 0.4397878 | 0.3258739 | 0.1682949 | 1.0279535 | 0.5672982 | 0.9469049 | 0.9757415 | 0.8735420 | 0.9103870 | ckd       | \n",
       "\n",
       "\n"
      ],
      "text/plain": [
       "  age bp        bgr       bu        sc        sod       pot       hemo     \n",
       "1 48  1.0278113 0.7191124 0.4692584 0.1835944        NA        NA 1.1952734\n",
       "2  7  0.6423821        NA 0.2346292 0.1223963        NA        NA 0.8770512\n",
       "3 62  1.0278113 2.5139220 0.6908526 0.2753916        NA        NA 0.7451055\n",
       "4 48  0.8993349 0.6953401 0.7299575 0.5813823 0.8035411 0.4432017 0.8692897\n",
       "5 51  1.0278113 0.6299663 0.3389088 0.2141935        NA        NA 0.9003358\n",
       "6 60  1.1562878 0.4397878 0.3258739 0.1682949 1.0279535 0.5672982 0.9469049\n",
       "  pcv       wbcc      rbcc      class\n",
       "1 1.1008365 0.8735420 1.0759119 ckd  \n",
       "2 0.9507225 0.6719554        NA ckd  \n",
       "3 0.7755894 0.8399443        NA ckd  \n",
       "4 0.8006084 0.7503502 0.8069339 ckd  \n",
       "5 0.8756654 0.8175458 0.9517682 ckd  \n",
       "6 0.9757415 0.8735420 0.9103870 ckd  "
      ]
     },
     "metadata": {},
     "output_type": "display_data"
    }
   ],
   "source": [
    "#Our first step is to read our data through the read_csv() function, and \n",
    "\n",
    "kidney <- read_csv('datasets/chronic_kidney_disease/chronic_kidney_disease_full.csv') %>% \n",
    "    mutate(class = as.factor(class)) %>%\n",
    "    #Removed NA values in our class column only\n",
    "    filter(!is.na(class)) %>%\n",
    "    mutate(wbcc = as.integer(wbcc))  #changed all scientific notation to integer\n",
    "\n",
    "kidney_num <- kidney %>% \n",
    "    select(-sg, -al, -su, -rbc, -pc, -pcc, -ba, -htn, -dm, -cad, -appet, -pe, -ane)\n",
    "\n",
    "kidney_scaled <- kidney_num %>% \n",
    "    select(-c(age, class)) %>% \n",
    "    scale(center = FALSE)\n",
    "\n",
    "kidney_scaled <- data.frame(age = kidney$age, kidney_scaled, class = kidney$class)\n",
    "\n",
    "    \n",
    "\n",
    "#is.factor(kidney$class)\n",
    "\n",
    "head(kidney_scaled)\n"
   ]
  },
  {
   "cell_type": "code",
   "execution_count": 25,
   "metadata": {},
   "outputs": [
    {
     "data": {
      "text/html": [
       "<table>\n",
       "<thead><tr><th scope=col>class</th><th scope=col>age</th><th scope=col>bp</th><th scope=col>bgr</th><th scope=col>bu</th><th scope=col>sc</th><th scope=col>sod</th><th scope=col>pot</th><th scope=col>hemo</th><th scope=col>pcv</th><th scope=col>wbcc</th><th scope=col>rbcc</th></tr></thead>\n",
       "<tbody>\n",
       "\t<tr><td>ckd      </td><td>54.42500 </td><td>1.0240326</td><td>1.0431517</td><td>0.9470699</td><td>0.6778795</td><td>0.9691903</td><td>0.865667 </td><td>0.8267734</td><td>0.8234158</td><td>1.0197419</td><td>0.8186862</td></tr>\n",
       "\t<tr><td>notckd   </td><td>46.32432 </td><td>0.9168147</td><td>0.6402316</td><td>0.4261427</td><td>0.1330209</td><td>1.0258924</td><td>0.770063 </td><td>1.1796961</td><td>1.1593293</td><td>0.8609232</td><td>1.1137961</td></tr>\n",
       "</tbody>\n",
       "</table>\n"
      ],
      "text/latex": [
       "\\begin{tabular}{r|llllllllllll}\n",
       " class & age & bp & bgr & bu & sc & sod & pot & hemo & pcv & wbcc & rbcc\\\\\n",
       "\\hline\n",
       "\t ckd       & 54.42500  & 1.0240326 & 1.0431517 & 0.9470699 & 0.6778795 & 0.9691903 & 0.865667  & 0.8267734 & 0.8234158 & 1.0197419 & 0.8186862\\\\\n",
       "\t notckd    & 46.32432  & 0.9168147 & 0.6402316 & 0.4261427 & 0.1330209 & 1.0258924 & 0.770063  & 1.1796961 & 1.1593293 & 0.8609232 & 1.1137961\\\\\n",
       "\\end{tabular}\n"
      ],
      "text/markdown": [
       "\n",
       "class | age | bp | bgr | bu | sc | sod | pot | hemo | pcv | wbcc | rbcc | \n",
       "|---|---|\n",
       "| ckd       | 54.42500  | 1.0240326 | 1.0431517 | 0.9470699 | 0.6778795 | 0.9691903 | 0.865667  | 0.8267734 | 0.8234158 | 1.0197419 | 0.8186862 | \n",
       "| notckd    | 46.32432  | 0.9168147 | 0.6402316 | 0.4261427 | 0.1330209 | 1.0258924 | 0.770063  | 1.1796961 | 1.1593293 | 0.8609232 | 1.1137961 | \n",
       "\n",
       "\n"
      ],
      "text/plain": [
       "  class  age      bp        bgr       bu        sc        sod       pot     \n",
       "1 ckd    54.42500 1.0240326 1.0431517 0.9470699 0.6778795 0.9691903 0.865667\n",
       "2 notckd 46.32432 0.9168147 0.6402316 0.4261427 0.1330209 1.0258924 0.770063\n",
       "  hemo      pcv       wbcc      rbcc     \n",
       "1 0.8267734 0.8234158 1.0197419 0.8186862\n",
       "2 1.1796961 1.1593293 0.8609232 1.1137961"
      ]
     },
     "metadata": {},
     "output_type": "display_data"
    },
    {
     "data": {
      "text/html": [
       "FALSE"
      ],
      "text/latex": [
       "FALSE"
      ],
      "text/markdown": [
       "FALSE"
      ],
      "text/plain": [
       "[1] FALSE"
      ]
     },
     "metadata": {},
     "output_type": "display_data"
    }
   ],
   "source": [
    "#  typeof(kidney_scaled$bu)\n",
    "\n",
    "\n",
    "kidney_means <- kidney_scaled %>% \n",
    "    group_by(class) %>% \n",
    "    summarize_all(mean, na.rm = TRUE) #%>% \n",
    "#     t() %>% \n",
    "#     data.frame()\n",
    "# colnames(kidney_means) <- c('ckd', 'notckd')\n",
    "# kidney_means <- kidney_means[-1,]\n",
    "\n",
    "#kidney_means$ckd <- as.numeric(kidney_means$ckd)\n",
    "#kidney_means$notckd <- as.numeric(kidney_means$notckd)\n",
    "\n",
    "kidney_means\n",
    "\n",
    "# kidney_means <- kidney_means %>% \n",
    "#     mutate(difference = ckd - notckd)\n",
    "# kidney_means\n",
    "\n",
    "\n",
    "# kidney_sd <- kidney_num %>% \n",
    "#     select(-class) %>% \n",
    "#     summarize_all(sd, na.rm = TRUE)\n",
    "is.factor(kidney_means$age)"
   ]
  },
  {
   "cell_type": "code",
   "execution_count": 5,
   "metadata": {},
   "outputs": [],
   "source": [
    "?summarize"
   ]
  },
  {
   "cell_type": "code",
   "execution_count": 6,
   "metadata": {},
   "outputs": [
    {
     "name": "stderr",
     "output_type": "stream",
     "text": [
      "Warning message:\n",
      "“Removed 113 rows containing missing values (geom_point).”"
     ]
    },
    {
     "data": {},
     "metadata": {},
     "output_type": "display_data"
    },
    {
     "data": {
      "image/png": "[encoded data removed]",
      "text/plain": [
       "plot without title"
      ]
     },
     "metadata": {},
     "output_type": "display_data"
    }
   ],
   "source": [
    "cbPalette <- c(\"#56B4E9\", \"#E69F00\",\"#009E73\", \"#F0E442\", \"#0072B2\", \"#D55E00\", \"#CC79A7\", \"#999999\")\n",
    "\n",
    "options(repr.plot.height = 3, repr.plot.width = 5)\n",
    "\n",
    "kidney_plot <- kidney %>% \n",
    "    ggplot(aes(x = hemo, y = wbcc, colour = class)) +\n",
    "    geom_point(alpha = 0.5) +\n",
    "    scale_color_manual(labels = c(\"Chronic Kidney Disease\", \"Not Chronic Kidney Disease\"), values = cbPalette)\n",
    "\n",
    "kidney_plot"
   ]
  },
  {
   "cell_type": "code",
   "execution_count": 7,
   "metadata": {},
   "outputs": [
    {
     "data": {
      "text/html": [
       "<table>\n",
       "<thead><tr><th scope=col>Resample1</th></tr></thead>\n",
       "<tbody>\n",
       "\t<tr><td>2</td></tr>\n",
       "\t<tr><td>3</td></tr>\n",
       "\t<tr><td>5</td></tr>\n",
       "\t<tr><td>6</td></tr>\n",
       "\t<tr><td>8</td></tr>\n",
       "\t<tr><td>9</td></tr>\n",
       "</tbody>\n",
       "</table>\n"
      ],
      "text/latex": [
       "\\begin{tabular}{l}\n",
       " Resample1\\\\\n",
       "\\hline\n",
       "\t 2\\\\\n",
       "\t 3\\\\\n",
       "\t 5\\\\\n",
       "\t 6\\\\\n",
       "\t 8\\\\\n",
       "\t 9\\\\\n",
       "\\end{tabular}\n"
      ],
      "text/markdown": [
       "\n",
       "Resample1 | \n",
       "|---|---|---|---|---|---|\n",
       "| 2 | \n",
       "| 3 | \n",
       "| 5 | \n",
       "| 6 | \n",
       "| 8 | \n",
       "| 9 | \n",
       "\n",
       "\n"
      ],
      "text/plain": [
       "     Resample1\n",
       "[1,] 2        \n",
       "[2,] 3        \n",
       "[3,] 5        \n",
       "[4,] 6        \n",
       "[5,] 8        \n",
       "[6,] 9        "
      ]
     },
     "metadata": {},
     "output_type": "display_data"
    },
    {
     "data": {
      "text/html": [
       "<table>\n",
       "<thead><tr><th scope=col>age</th><th scope=col>bp</th><th scope=col>sg</th><th scope=col>al</th><th scope=col>su</th><th scope=col>rbc</th><th scope=col>pc</th><th scope=col>pcc</th><th scope=col>ba</th><th scope=col>bgr</th><th scope=col>⋯</th><th scope=col>pcv</th><th scope=col>wbcc</th><th scope=col>rbcc</th><th scope=col>htn</th><th scope=col>dm</th><th scope=col>cad</th><th scope=col>appet</th><th scope=col>pe</th><th scope=col>ane</th><th scope=col>class</th></tr></thead>\n",
       "<tbody>\n",
       "\t<tr><td> 7        </td><td> 50       </td><td>1.020     </td><td>4         </td><td>0         </td><td>NA        </td><td>normal    </td><td>notpresent</td><td>notpresent</td><td> NA       </td><td>⋯         </td><td>38        </td><td>6000      </td><td> NA       </td><td>no        </td><td>no        </td><td>no        </td><td>good      </td><td>no        </td><td>no        </td><td>ckd       </td></tr>\n",
       "\t<tr><td>62        </td><td> 80       </td><td>1.010     </td><td>2         </td><td>3         </td><td>normal    </td><td>normal    </td><td>notpresent</td><td>notpresent</td><td>423       </td><td>⋯         </td><td>31        </td><td>7500      </td><td> NA       </td><td>no        </td><td>yes       </td><td>no        </td><td>poor      </td><td>no        </td><td>yes       </td><td>ckd       </td></tr>\n",
       "\t<tr><td>51        </td><td> 80       </td><td>1.010     </td><td>2         </td><td>0         </td><td>normal    </td><td>normal    </td><td>notpresent</td><td>notpresent</td><td>106       </td><td>⋯         </td><td>35        </td><td>7300      </td><td>4.6       </td><td>no        </td><td>no        </td><td>no        </td><td>good      </td><td>no        </td><td>no        </td><td>ckd       </td></tr>\n",
       "\t<tr><td>60        </td><td> 90       </td><td>1.015     </td><td>3         </td><td>0         </td><td>NA        </td><td>NA        </td><td>notpresent</td><td>notpresent</td><td> 74       </td><td>⋯         </td><td>39        </td><td>7800      </td><td>4.4       </td><td>yes       </td><td>yes       </td><td>no        </td><td>good      </td><td>yes       </td><td>no        </td><td>ckd       </td></tr>\n",
       "\t<tr><td>24        </td><td> NA       </td><td>1.015     </td><td>2         </td><td>4         </td><td>normal    </td><td>abnormal  </td><td>notpresent</td><td>notpresent</td><td>410       </td><td>⋯         </td><td>44        </td><td>6900      </td><td>5.0       </td><td>no        </td><td>yes       </td><td>no        </td><td>good      </td><td>yes       </td><td>no        </td><td>ckd       </td></tr>\n",
       "\t<tr><td>52        </td><td>100       </td><td>1.015     </td><td>3         </td><td>0         </td><td>normal    </td><td>abnormal  </td><td>present   </td><td>notpresent</td><td>138       </td><td>⋯         </td><td>33        </td><td>9600      </td><td>4.0       </td><td>yes       </td><td>yes       </td><td>no        </td><td>good      </td><td>no        </td><td>yes       </td><td>ckd       </td></tr>\n",
       "</tbody>\n",
       "</table>\n"
      ],
      "text/latex": [
       "\\begin{tabular}{r|lllllllllllllllllllllllll}\n",
       " age & bp & sg & al & su & rbc & pc & pcc & ba & bgr & ⋯ & pcv & wbcc & rbcc & htn & dm & cad & appet & pe & ane & class\\\\\n",
       "\\hline\n",
       "\t  7         &  50        & 1.020      & 4          & 0          & NA         & normal     & notpresent & notpresent &  NA        & ⋯          & 38         & 6000       &  NA        & no         & no         & no         & good       & no         & no         & ckd       \\\\\n",
       "\t 62         &  80        & 1.010      & 2          & 3          & normal     & normal     & notpresent & notpresent & 423        & ⋯          & 31         & 7500       &  NA        & no         & yes        & no         & poor       & no         & yes        & ckd       \\\\\n",
       "\t 51         &  80        & 1.010      & 2          & 0          & normal     & normal     & notpresent & notpresent & 106        & ⋯          & 35         & 7300       & 4.6        & no         & no         & no         & good       & no         & no         & ckd       \\\\\n",
       "\t 60         &  90        & 1.015      & 3          & 0          & NA         & NA         & notpresent & notpresent &  74        & ⋯          & 39         & 7800       & 4.4        & yes        & yes        & no         & good       & yes        & no         & ckd       \\\\\n",
       "\t 24         &  NA        & 1.015      & 2          & 4          & normal     & abnormal   & notpresent & notpresent & 410        & ⋯          & 44         & 6900       & 5.0        & no         & yes        & no         & good       & yes        & no         & ckd       \\\\\n",
       "\t 52         & 100        & 1.015      & 3          & 0          & normal     & abnormal   & present    & notpresent & 138        & ⋯          & 33         & 9600       & 4.0        & yes        & yes        & no         & good       & no         & yes        & ckd       \\\\\n",
       "\\end{tabular}\n"
      ],
      "text/markdown": [
       "\n",
       "age | bp | sg | al | su | rbc | pc | pcc | ba | bgr | ⋯ | pcv | wbcc | rbcc | htn | dm | cad | appet | pe | ane | class | \n",
       "|---|---|---|---|---|---|\n",
       "|  7         |  50        | 1.020      | 4          | 0          | NA         | normal     | notpresent | notpresent |  NA        | ⋯          | 38         | 6000       |  NA        | no         | no         | no         | good       | no         | no         | ckd        | \n",
       "| 62         |  80        | 1.010      | 2          | 3          | normal     | normal     | notpresent | notpresent | 423        | ⋯          | 31         | 7500       |  NA        | no         | yes        | no         | poor       | no         | yes        | ckd        | \n",
       "| 51         |  80        | 1.010      | 2          | 0          | normal     | normal     | notpresent | notpresent | 106        | ⋯          | 35         | 7300       | 4.6        | no         | no         | no         | good       | no         | no         | ckd        | \n",
       "| 60         |  90        | 1.015      | 3          | 0          | NA         | NA         | notpresent | notpresent |  74        | ⋯          | 39         | 7800       | 4.4        | yes        | yes        | no         | good       | yes        | no         | ckd        | \n",
       "| 24         |  NA        | 1.015      | 2          | 4          | normal     | abnormal   | notpresent | notpresent | 410        | ⋯          | 44         | 6900       | 5.0        | no         | yes        | no         | good       | yes        | no         | ckd        | \n",
       "| 52         | 100        | 1.015      | 3          | 0          | normal     | abnormal   | present    | notpresent | 138        | ⋯          | 33         | 9600       | 4.0        | yes        | yes        | no         | good       | no         | yes        | ckd        | \n",
       "\n",
       "\n"
      ],
      "text/plain": [
       "  age bp  sg    al su rbc    pc       pcc        ba         bgr ⋯ pcv wbcc rbcc\n",
       "1  7   50 1.020 4  0  NA     normal   notpresent notpresent  NA ⋯ 38  6000  NA \n",
       "2 62   80 1.010 2  3  normal normal   notpresent notpresent 423 ⋯ 31  7500  NA \n",
       "3 51   80 1.010 2  0  normal normal   notpresent notpresent 106 ⋯ 35  7300 4.6 \n",
       "4 60   90 1.015 3  0  NA     NA       notpresent notpresent  74 ⋯ 39  7800 4.4 \n",
       "5 24   NA 1.015 2  4  normal abnormal notpresent notpresent 410 ⋯ 44  6900 5.0 \n",
       "6 52  100 1.015 3  0  normal abnormal present    notpresent 138 ⋯ 33  9600 4.0 \n",
       "  htn dm  cad appet pe  ane class\n",
       "1 no  no  no  good  no  no  ckd  \n",
       "2 no  yes no  poor  no  yes ckd  \n",
       "3 no  no  no  good  no  no  ckd  \n",
       "4 yes yes no  good  yes no  ckd  \n",
       "5 no  yes no  good  yes no  ckd  \n",
       "6 yes yes no  good  no  yes ckd  "
      ]
     },
     "metadata": {},
     "output_type": "display_data"
    },
    {
     "data": {
      "text/html": [
       "<table>\n",
       "<thead><tr><th scope=col>age</th><th scope=col>bp</th><th scope=col>sg</th><th scope=col>al</th><th scope=col>su</th><th scope=col>rbc</th><th scope=col>pc</th><th scope=col>pcc</th><th scope=col>ba</th><th scope=col>bgr</th><th scope=col>⋯</th><th scope=col>pcv</th><th scope=col>wbcc</th><th scope=col>rbcc</th><th scope=col>htn</th><th scope=col>dm</th><th scope=col>cad</th><th scope=col>appet</th><th scope=col>pe</th><th scope=col>ane</th><th scope=col>class</th></tr></thead>\n",
       "<tbody>\n",
       "\t<tr><td>50        </td><td>80        </td><td>1.020     </td><td>0         </td><td>0         </td><td>normal    </td><td>normal    </td><td>notpresent</td><td>notpresent</td><td>137       </td><td>⋯         </td><td>45        </td><td>9500      </td><td>4.6       </td><td>no        </td><td>no        </td><td>no        </td><td>good      </td><td>no        </td><td>no        </td><td>notckd    </td></tr>\n",
       "\t<tr><td>55        </td><td>80        </td><td>1.020     </td><td>0         </td><td>0         </td><td>normal    </td><td>normal    </td><td>notpresent</td><td>notpresent</td><td>140       </td><td>⋯         </td><td>47        </td><td>6700      </td><td>4.9       </td><td>no        </td><td>no        </td><td>no        </td><td>good      </td><td>no        </td><td>no        </td><td>notckd    </td></tr>\n",
       "\t<tr><td>42        </td><td>70        </td><td>1.025     </td><td>0         </td><td>0         </td><td>normal    </td><td>normal    </td><td>notpresent</td><td>notpresent</td><td> 75       </td><td>⋯         </td><td>54        </td><td>7800      </td><td>6.2       </td><td>no        </td><td>no        </td><td>no        </td><td>good      </td><td>no        </td><td>no        </td><td>notckd    </td></tr>\n",
       "\t<tr><td>12        </td><td>80        </td><td>1.020     </td><td>0         </td><td>0         </td><td>normal    </td><td>normal    </td><td>notpresent</td><td>notpresent</td><td>100       </td><td>⋯         </td><td>49        </td><td>6600      </td><td>5.4       </td><td>no        </td><td>no        </td><td>no        </td><td>good      </td><td>no        </td><td>no        </td><td>notckd    </td></tr>\n",
       "\t<tr><td>17        </td><td>60        </td><td>1.025     </td><td>0         </td><td>0         </td><td>normal    </td><td>normal    </td><td>notpresent</td><td>notpresent</td><td>114       </td><td>⋯         </td><td>51        </td><td>7200      </td><td>5.9       </td><td>no        </td><td>no        </td><td>no        </td><td>good      </td><td>no        </td><td>no        </td><td>notckd    </td></tr>\n",
       "\t<tr><td>58        </td><td>80        </td><td>1.025     </td><td>0         </td><td>0         </td><td>normal    </td><td>normal    </td><td>notpresent</td><td>notpresent</td><td>131       </td><td>⋯         </td><td>53        </td><td>6800      </td><td>6.1       </td><td>no        </td><td>no        </td><td>no        </td><td>good      </td><td>no        </td><td>no        </td><td>notckd    </td></tr>\n",
       "</tbody>\n",
       "</table>\n"
      ],
      "text/latex": [
       "\\begin{tabular}{r|lllllllllllllllllllllllll}\n",
       " age & bp & sg & al & su & rbc & pc & pcc & ba & bgr & ⋯ & pcv & wbcc & rbcc & htn & dm & cad & appet & pe & ane & class\\\\\n",
       "\\hline\n",
       "\t 50         & 80         & 1.020      & 0          & 0          & normal     & normal     & notpresent & notpresent & 137        & ⋯          & 45         & 9500       & 4.6        & no         & no         & no         & good       & no         & no         & notckd    \\\\\n",
       "\t 55         & 80         & 1.020      & 0          & 0          & normal     & normal     & notpresent & notpresent & 140        & ⋯          & 47         & 6700       & 4.9        & no         & no         & no         & good       & no         & no         & notckd    \\\\\n",
       "\t 42         & 70         & 1.025      & 0          & 0          & normal     & normal     & notpresent & notpresent &  75        & ⋯          & 54         & 7800       & 6.2        & no         & no         & no         & good       & no         & no         & notckd    \\\\\n",
       "\t 12         & 80         & 1.020      & 0          & 0          & normal     & normal     & notpresent & notpresent & 100        & ⋯          & 49         & 6600       & 5.4        & no         & no         & no         & good       & no         & no         & notckd    \\\\\n",
       "\t 17         & 60         & 1.025      & 0          & 0          & normal     & normal     & notpresent & notpresent & 114        & ⋯          & 51         & 7200       & 5.9        & no         & no         & no         & good       & no         & no         & notckd    \\\\\n",
       "\t 58         & 80         & 1.025      & 0          & 0          & normal     & normal     & notpresent & notpresent & 131        & ⋯          & 53         & 6800       & 6.1        & no         & no         & no         & good       & no         & no         & notckd    \\\\\n",
       "\\end{tabular}\n"
      ],
      "text/markdown": [
       "\n",
       "age | bp | sg | al | su | rbc | pc | pcc | ba | bgr | ⋯ | pcv | wbcc | rbcc | htn | dm | cad | appet | pe | ane | class | \n",
       "|---|---|---|---|---|---|\n",
       "| 50         | 80         | 1.020      | 0          | 0          | normal     | normal     | notpresent | notpresent | 137        | ⋯          | 45         | 9500       | 4.6        | no         | no         | no         | good       | no         | no         | notckd     | \n",
       "| 55         | 80         | 1.020      | 0          | 0          | normal     | normal     | notpresent | notpresent | 140        | ⋯          | 47         | 6700       | 4.9        | no         | no         | no         | good       | no         | no         | notckd     | \n",
       "| 42         | 70         | 1.025      | 0          | 0          | normal     | normal     | notpresent | notpresent |  75        | ⋯          | 54         | 7800       | 6.2        | no         | no         | no         | good       | no         | no         | notckd     | \n",
       "| 12         | 80         | 1.020      | 0          | 0          | normal     | normal     | notpresent | notpresent | 100        | ⋯          | 49         | 6600       | 5.4        | no         | no         | no         | good       | no         | no         | notckd     | \n",
       "| 17         | 60         | 1.025      | 0          | 0          | normal     | normal     | notpresent | notpresent | 114        | ⋯          | 51         | 7200       | 5.9        | no         | no         | no         | good       | no         | no         | notckd     | \n",
       "| 58         | 80         | 1.025      | 0          | 0          | normal     | normal     | notpresent | notpresent | 131        | ⋯          | 53         | 6800       | 6.1        | no         | no         | no         | good       | no         | no         | notckd     | \n",
       "\n",
       "\n"
      ],
      "text/plain": [
       "  age bp sg    al su rbc    pc     pcc        ba         bgr ⋯ pcv wbcc rbcc\n",
       "1 50  80 1.020 0  0  normal normal notpresent notpresent 137 ⋯ 45  9500 4.6 \n",
       "2 55  80 1.020 0  0  normal normal notpresent notpresent 140 ⋯ 47  6700 4.9 \n",
       "3 42  70 1.025 0  0  normal normal notpresent notpresent  75 ⋯ 54  7800 6.2 \n",
       "4 12  80 1.020 0  0  normal normal notpresent notpresent 100 ⋯ 49  6600 5.4 \n",
       "5 17  60 1.025 0  0  normal normal notpresent notpresent 114 ⋯ 51  7200 5.9 \n",
       "6 58  80 1.025 0  0  normal normal notpresent notpresent 131 ⋯ 53  6800 6.1 \n",
       "  htn dm cad appet pe ane class \n",
       "1 no  no no  good  no no  notckd\n",
       "2 no  no no  good  no no  notckd\n",
       "3 no  no no  good  no no  notckd\n",
       "4 no  no no  good  no no  notckd\n",
       "5 no  no no  good  no no  notckd\n",
       "6 no  no no  good  no no  notckd"
      ]
     },
     "metadata": {},
     "output_type": "display_data"
    }
   ],
   "source": [
    "set.seed(1234)\n",
    "\n",
    "set_rows <- kidney %>% \n",
    "    select(class) %>% \n",
    "    unlist() %>% \n",
    "    createDataPartition(p = 0.75, list = FALSE) #CHECK TO SEE IF THIS IS RANDOMIZED\n",
    "\n",
    "head(set_rows)\n",
    "\n",
    "training_kidney <- kidney %>% slice(set_rows)\n",
    "validation_kidney <- kidney %>% slice(-set_rows)\n",
    "\n",
    "head(training_kidney)\n",
    "tail(training_kidney)"
   ]
  },
  {
   "cell_type": "code",
   "execution_count": 8,
   "metadata": {},
   "outputs": [
    {
     "data": {
      "text/plain": [
       "k-Nearest Neighbors \n",
       "\n",
       "120 samples\n",
       "  2 predictor\n",
       "  2 classes: 'ckd', 'notckd' \n",
       "\n",
       "No pre-processing\n",
       "Resampling: Bootstrapped (25 reps) \n",
       "Summary of sample sizes: 120, 120, 120, 120, 120, 120, ... \n",
       "Resampling results:\n",
       "\n",
       "  Accuracy   Kappa   \n",
       "  0.7655672  0.339361\n",
       "\n",
       "Tuning parameter 'k' was held constant at a value of 3"
      ]
     },
     "metadata": {},
     "output_type": "display_data"
    }
   ],
   "source": [
    "t_kidney_clean <- training_kidney %>% drop_na()\n",
    "\n",
    "X_train <- t_kidney_clean %>% \n",
    "    select(hemo, wbcc) %>% \n",
    "    data.frame()\n",
    "\n",
    "Y_train <- t_kidney_clean %>% \n",
    "    select(class) %>%  \n",
    "    unlist()\n",
    "\n",
    "k = data.frame(k = 3)\n",
    "\n",
    "set.seed(1234)\n",
    "\n",
    "#head(Y_train)\n",
    "#tail(Y_train)\n",
    "\n",
    "kidney_class <- train(x = X_train, y = Y_train, method = \"knn\", tuneGrid = k)\n",
    "\n",
    "kidney_class"
   ]
  },
  {
   "cell_type": "code",
   "execution_count": 9,
   "metadata": {},
   "outputs": [
    {
     "name": "stderr",
     "output_type": "stream",
     "text": [
      "Warning message in mean.default(.x[[i]], ...):\n",
      "“argument is not numeric or logical: returning NA”Warning message in mean.default(.x[[i]], ...):\n",
      "“argument is not numeric or logical: returning NA”Warning message in mean.default(.x[[i]], ...):\n",
      "“argument is not numeric or logical: returning NA”Warning message in mean.default(.x[[i]], ...):\n",
      "“argument is not numeric or logical: returning NA”Warning message in mean.default(.x[[i]], ...):\n",
      "“argument is not numeric or logical: returning NA”Warning message in mean.default(.x[[i]], ...):\n",
      "“argument is not numeric or logical: returning NA”Warning message in mean.default(.x[[i]], ...):\n",
      "“argument is not numeric or logical: returning NA”Warning message in mean.default(.x[[i]], ...):\n",
      "“argument is not numeric or logical: returning NA”Warning message in mean.default(.x[[i]], ...):\n",
      "“argument is not numeric or logical: returning NA”Warning message in mean.default(.x[[i]], ...):\n",
      "“argument is not numeric or logical: returning NA”Warning message in mean.default(.x[[i]], ...):\n",
      "“argument is not numeric or logical: returning NA”"
     ]
    },
    {
     "data": {
      "text/html": [
       "<table>\n",
       "<thead><tr><th scope=col>age</th><th scope=col>bp</th><th scope=col>sg</th><th scope=col>al</th><th scope=col>su</th><th scope=col>rbc</th><th scope=col>pc</th><th scope=col>pcc</th><th scope=col>ba</th><th scope=col>bgr</th><th scope=col>⋯</th><th scope=col>pcv</th><th scope=col>wbcc</th><th scope=col>rbcc</th><th scope=col>htn</th><th scope=col>dm</th><th scope=col>cad</th><th scope=col>appet</th><th scope=col>pe</th><th scope=col>ane</th><th scope=col>class</th></tr></thead>\n",
       "<tbody>\n",
       "\t<tr><td>49.04167 </td><td>73.58333 </td><td>1.020125 </td><td>0.7666667</td><td>0.25     </td><td>NA       </td><td>NA       </td><td>NA       </td><td>NA       </td><td>133.9333 </td><td>⋯        </td><td>42.43333 </td><td>8550     </td><td>4.841667 </td><td>NA       </td><td>NA       </td><td>NA       </td><td>NA       </td><td>NA       </td><td>NA       </td><td>NA       </td></tr>\n",
       "</tbody>\n",
       "</table>\n"
      ],
      "text/latex": [
       "\\begin{tabular}{r|lllllllllllllllllllllllll}\n",
       " age & bp & sg & al & su & rbc & pc & pcc & ba & bgr & ⋯ & pcv & wbcc & rbcc & htn & dm & cad & appet & pe & ane & class\\\\\n",
       "\\hline\n",
       "\t 49.04167  & 73.58333  & 1.020125  & 0.7666667 & 0.25      & NA        & NA        & NA        & NA        & 133.9333  & ⋯         & 42.43333  & 8550      & 4.841667  & NA        & NA        & NA        & NA        & NA        & NA        & NA       \\\\\n",
       "\\end{tabular}\n"
      ],
      "text/markdown": [
       "\n",
       "age | bp | sg | al | su | rbc | pc | pcc | ba | bgr | ⋯ | pcv | wbcc | rbcc | htn | dm | cad | appet | pe | ane | class | \n",
       "|---|\n",
       "| 49.04167  | 73.58333  | 1.020125  | 0.7666667 | 0.25      | NA        | NA        | NA        | NA        | 133.9333  | ⋯         | 42.43333  | 8550      | 4.841667  | NA        | NA        | NA        | NA        | NA        | NA        | NA        | \n",
       "\n",
       "\n"
      ],
      "text/plain": [
       "  age      bp       sg       al        su   rbc pc pcc ba bgr      ⋯ pcv     \n",
       "1 49.04167 73.58333 1.020125 0.7666667 0.25 NA  NA NA  NA 133.9333 ⋯ 42.43333\n",
       "  wbcc rbcc     htn dm cad appet pe ane class\n",
       "1 8550 4.841667 NA  NA NA  NA    NA NA  NA   "
      ]
     },
     "metadata": {},
     "output_type": "display_data"
    },
    {
     "data": {
      "text/html": [
       "<table>\n",
       "<thead><tr><th scope=col>age</th><th scope=col>bp</th><th scope=col>sg</th><th scope=col>al</th><th scope=col>su</th><th scope=col>rbc</th><th scope=col>pc</th><th scope=col>pcc</th><th scope=col>ba</th><th scope=col>bgr</th><th scope=col>⋯</th><th scope=col>pcv</th><th scope=col>wbcc</th><th scope=col>rbcc</th><th scope=col>htn</th><th scope=col>dm</th><th scope=col>cad</th><th scope=col>appet</th><th scope=col>pe</th><th scope=col>ane</th><th scope=col>class</th></tr></thead>\n",
       "<tbody>\n",
       "\t<tr><td>50        </td><td>80        </td><td>1.020     </td><td>0         </td><td>0         </td><td>normal    </td><td>normal    </td><td>notpresent</td><td>notpresent</td><td>137       </td><td>⋯         </td><td>45        </td><td>9500      </td><td>4.6       </td><td>no        </td><td>no        </td><td>no        </td><td>good      </td><td>no        </td><td>no        </td><td>notckd    </td></tr>\n",
       "\t<tr><td>55        </td><td>80        </td><td>1.020     </td><td>0         </td><td>0         </td><td>normal    </td><td>normal    </td><td>notpresent</td><td>notpresent</td><td>140       </td><td>⋯         </td><td>47        </td><td>6700      </td><td>4.9       </td><td>no        </td><td>no        </td><td>no        </td><td>good      </td><td>no        </td><td>no        </td><td>notckd    </td></tr>\n",
       "\t<tr><td>42        </td><td>70        </td><td>1.025     </td><td>0         </td><td>0         </td><td>normal    </td><td>normal    </td><td>notpresent</td><td>notpresent</td><td> 75       </td><td>⋯         </td><td>54        </td><td>7800      </td><td>6.2       </td><td>no        </td><td>no        </td><td>no        </td><td>good      </td><td>no        </td><td>no        </td><td>notckd    </td></tr>\n",
       "\t<tr><td>12        </td><td>80        </td><td>1.020     </td><td>0         </td><td>0         </td><td>normal    </td><td>normal    </td><td>notpresent</td><td>notpresent</td><td>100       </td><td>⋯         </td><td>49        </td><td>6600      </td><td>5.4       </td><td>no        </td><td>no        </td><td>no        </td><td>good      </td><td>no        </td><td>no        </td><td>notckd    </td></tr>\n",
       "\t<tr><td>17        </td><td>60        </td><td>1.025     </td><td>0         </td><td>0         </td><td>normal    </td><td>normal    </td><td>notpresent</td><td>notpresent</td><td>114       </td><td>⋯         </td><td>51        </td><td>7200      </td><td>5.9       </td><td>no        </td><td>no        </td><td>no        </td><td>good      </td><td>no        </td><td>no        </td><td>notckd    </td></tr>\n",
       "\t<tr><td>58        </td><td>80        </td><td>1.025     </td><td>0         </td><td>0         </td><td>normal    </td><td>normal    </td><td>notpresent</td><td>notpresent</td><td>131       </td><td>⋯         </td><td>53        </td><td>6800      </td><td>6.1       </td><td>no        </td><td>no        </td><td>no        </td><td>good      </td><td>no        </td><td>no        </td><td>notckd    </td></tr>\n",
       "</tbody>\n",
       "</table>\n"
      ],
      "text/latex": [
       "\\begin{tabular}{r|lllllllllllllllllllllllll}\n",
       " age & bp & sg & al & su & rbc & pc & pcc & ba & bgr & ⋯ & pcv & wbcc & rbcc & htn & dm & cad & appet & pe & ane & class\\\\\n",
       "\\hline\n",
       "\t 50         & 80         & 1.020      & 0          & 0          & normal     & normal     & notpresent & notpresent & 137        & ⋯          & 45         & 9500       & 4.6        & no         & no         & no         & good       & no         & no         & notckd    \\\\\n",
       "\t 55         & 80         & 1.020      & 0          & 0          & normal     & normal     & notpresent & notpresent & 140        & ⋯          & 47         & 6700       & 4.9        & no         & no         & no         & good       & no         & no         & notckd    \\\\\n",
       "\t 42         & 70         & 1.025      & 0          & 0          & normal     & normal     & notpresent & notpresent &  75        & ⋯          & 54         & 7800       & 6.2        & no         & no         & no         & good       & no         & no         & notckd    \\\\\n",
       "\t 12         & 80         & 1.020      & 0          & 0          & normal     & normal     & notpresent & notpresent & 100        & ⋯          & 49         & 6600       & 5.4        & no         & no         & no         & good       & no         & no         & notckd    \\\\\n",
       "\t 17         & 60         & 1.025      & 0          & 0          & normal     & normal     & notpresent & notpresent & 114        & ⋯          & 51         & 7200       & 5.9        & no         & no         & no         & good       & no         & no         & notckd    \\\\\n",
       "\t 58         & 80         & 1.025      & 0          & 0          & normal     & normal     & notpresent & notpresent & 131        & ⋯          & 53         & 6800       & 6.1        & no         & no         & no         & good       & no         & no         & notckd    \\\\\n",
       "\\end{tabular}\n"
      ],
      "text/markdown": [
       "\n",
       "age | bp | sg | al | su | rbc | pc | pcc | ba | bgr | ⋯ | pcv | wbcc | rbcc | htn | dm | cad | appet | pe | ane | class | \n",
       "|---|---|---|---|---|---|\n",
       "| 50         | 80         | 1.020      | 0          | 0          | normal     | normal     | notpresent | notpresent | 137        | ⋯          | 45         | 9500       | 4.6        | no         | no         | no         | good       | no         | no         | notckd     | \n",
       "| 55         | 80         | 1.020      | 0          | 0          | normal     | normal     | notpresent | notpresent | 140        | ⋯          | 47         | 6700       | 4.9        | no         | no         | no         | good       | no         | no         | notckd     | \n",
       "| 42         | 70         | 1.025      | 0          | 0          | normal     | normal     | notpresent | notpresent |  75        | ⋯          | 54         | 7800       | 6.2        | no         | no         | no         | good       | no         | no         | notckd     | \n",
       "| 12         | 80         | 1.020      | 0          | 0          | normal     | normal     | notpresent | notpresent | 100        | ⋯          | 49         | 6600       | 5.4        | no         | no         | no         | good       | no         | no         | notckd     | \n",
       "| 17         | 60         | 1.025      | 0          | 0          | normal     | normal     | notpresent | notpresent | 114        | ⋯          | 51         | 7200       | 5.9        | no         | no         | no         | good       | no         | no         | notckd     | \n",
       "| 58         | 80         | 1.025      | 0          | 0          | normal     | normal     | notpresent | notpresent | 131        | ⋯          | 53         | 6800       | 6.1        | no         | no         | no         | good       | no         | no         | notckd     | \n",
       "\n",
       "\n"
      ],
      "text/plain": [
       "  age bp sg    al su rbc    pc     pcc        ba         bgr ⋯ pcv wbcc rbcc\n",
       "1 50  80 1.020 0  0  normal normal notpresent notpresent 137 ⋯ 45  9500 4.6 \n",
       "2 55  80 1.020 0  0  normal normal notpresent notpresent 140 ⋯ 47  6700 4.9 \n",
       "3 42  70 1.025 0  0  normal normal notpresent notpresent  75 ⋯ 54  7800 6.2 \n",
       "4 12  80 1.020 0  0  normal normal notpresent notpresent 100 ⋯ 49  6600 5.4 \n",
       "5 17  60 1.025 0  0  normal normal notpresent notpresent 114 ⋯ 51  7200 5.9 \n",
       "6 58  80 1.025 0  0  normal normal notpresent notpresent 131 ⋯ 53  6800 6.1 \n",
       "  htn dm cad appet pe ane class \n",
       "1 no  no no  good  no no  notckd\n",
       "2 no  no no  good  no no  notckd\n",
       "3 no  no no  good  no no  notckd\n",
       "4 no  no no  good  no no  notckd\n",
       "5 no  no no  good  no no  notckd\n",
       "6 no  no no  good  no no  notckd"
      ]
     },
     "metadata": {},
     "output_type": "display_data"
    }
   ],
   "source": [
    "kidney_stats <- t_kidney_clean %>% \n",
    "    group_by(class) %>% \n",
    "    map_df(mean)\n",
    "\n",
    "head(kidney_stats)\n",
    "tail(t_kidney_clean)\n"
   ]
  },
  {
   "cell_type": "code",
   "execution_count": null,
   "metadata": {},
   "outputs": [],
   "source": []
  }
 ],
 "metadata": {
  "kernelspec": {
   "display_name": "R",
   "language": "R",
   "name": "ir"
  },
  "language_info": {
   "codemirror_mode": "r",
   "file_extension": ".r",
   "mimetype": "text/x-r-source",
   "name": "R",
   "pygments_lexer": "r",
   "version": "3.4.1"
  }
 },
 "nbformat": 4,
 "nbformat_minor": 2
}
